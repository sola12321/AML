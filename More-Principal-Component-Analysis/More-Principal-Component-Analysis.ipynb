{
 "cells": [
  {
   "cell_type": "code",
   "execution_count": 33,
   "metadata": {},
   "outputs": [],
   "source": [
    "import numpy as np\n",
    "from sklearn.decomposition import PCA \n",
    "from scipy.spatial.distance import pdist, squareform\n",
    "from sklearn.metrics import euclidean_distances\n",
    "import matplotlib.pyplot as plt\n",
    "import pandas as pd\n",
    "\n",
    "\"\"\"\n",
    "Loaded in this way, each of the batch files contains a dictionary with the following elements:\n",
    "data -- a 10000x3072 numpy array of uint8s. Each row of the array stores a 32x32 colour image. The first 1024 entries contain the red channel values, the next 1024 the green, and the final 1024 the blue. The image is stored in row-major order, so that the first 32 entries of the array are the red channel values of the first row of the image.\n",
    "labels -- a list of 10000 numbers in the range 0-9. The number at index i indicates the label of the ith image in the array data.\n",
    "\"\"\"\n",
    "def unpickle(file):\n",
    "    import pickle\n",
    "    with open(file, 'rb') as fo:\n",
    "        dict = pickle.load(fo, encoding='bytes')\n",
    "    return dict\n",
    "batch_names = [\"data_batch_1\", \"data_batch_2\", \"data_batch_3\", \"data_batch_4\", \"data_batch_5\", \"test_batch\"]\n",
    "path = \"./cifar-10-batches-py/\""
   ]
  },
  {
   "cell_type": "code",
   "execution_count": 36,
   "metadata": {},
   "outputs": [
    {
     "name": "stdout",
     "output_type": "stream",
     "text": [
      "(10, 6000, 3072)\n"
     ]
    }
   ],
   "source": [
    "data = [[] for _ in range(10)] #index is the label\n",
    "for batch_name in batch_names:\n",
    "    d = unpickle(path+batch_name)\n",
    "    batch_data, batch_labels = d[b'data'], d[b'labels']\n",
    "    for i in range(len(batch_labels)):\n",
    "        data[batch_labels[i]].append(batch_data[i])\n",
    "data = np.array(data).astype(float)\n",
    "#The CIFAR-10 dataset consists of 60000 32x32 colour images in 10 classes, with 6000 images per class\n",
    "print(data.shape)\n"
   ]
  },
  {
   "cell_type": "code",
   "execution_count": null,
   "metadata": {},
   "outputs": [
    {
     "data": {
      "image/png": "[encoded data removed]",
      "text/plain": [
       "<Figure size 432x288 with 1 Axes>"
      ]
     },
     "metadata": {
      "needs_background": "light"
     },
     "output_type": "display_data"
    },
    {
     "data": {
      "image/png": "[encoded data removed]",
      "text/plain": [
       "<Figure size 432x288 with 1 Axes>"
      ]
     },
     "metadata": {
      "needs_background": "light"
     },
     "output_type": "display_data"
    }
   ],
   "source": [
    "#Part A\n",
    "\"\"\"\n",
    "For each class, find the mean image, and compute the first 20 principal components.\n",
    "Now use the mean as well as the principle components to compute a low-dimensional reconstruction of each image in the class. Hint: Libary functions will come in handy here. Refer to section 7.1.2 and 7.1.3 for theory.\n",
    "Now for each image, compute the squared difference between the original and reconstructed version, and sum this over all pixels over all channels. If you have flattened your images, this is simply the squared euclidean distance between the image vectors. Take the average of the value you computed above over all images in the class.\n",
    "Plot the above value in the bar graph against its category/class label. You will submit this plot.\n",
    "\"\"\"\n",
    "pca = PCA(20)\n",
    "MSEs = []\n",
    "means = []\n",
    "for label in range(10):\n",
    "    mean = np.mean(data[label], axis=0)\n",
    "    means += [mean]\n",
    "    r, g, b = mean[:32*32].reshape(32,32), mean[32*32: 32*32*2].reshape(32,32), mean[32*32*2:].reshape(32,32)\n",
    "    plot_data = np.ndarray((32,32,3))\n",
    "    plot_data[:,:,0], plot_data[:,:,1], plot_data[:,:,2] = r,g,b \n",
    "    plt.imshow(plot_data.astype(int))\n",
    "    plt.title(\"mean plot for class{}\".format(label))\n",
    "    plt.show()\n",
    "    #find the \n",
    "    data_proj = pca.fit_transform(data[label])\n",
    "    data_rec = pca.inverse_transform(data_proj)\n",
    "    MSEs += [np.mean(np.sum(np.square(data[label]-data_rec), axis=1),axis=0)]\n",
    "    \n",
    "plt.figure()\n",
    "plt.bar(range(10),MSEs)\n",
    "plt.title(\"MSE for each class\")\n",
    "plt.xlabel(\"class label\")\n",
    "plt.ylabel(\"MSE\")\n",
    "plt.show()\n",
    "\n",
    "    \n",
    "    \n"
   ]
  },
  {
   "cell_type": "code",
   "execution_count": 21,
   "metadata": {},
   "outputs": [
    {
     "data": {
      "text/plain": [
       "<matplotlib.collections.PathCollection at 0x11a8dda90>"
      ]
     },
     "execution_count": 21,
     "metadata": {},
     "output_type": "execute_result"
    },
    {
     "data": {
      "image/png": "[encoded data removed]",
      "text/plain": [
       "<Figure size 432x288 with 1 Axes>"
      ]
     },
     "metadata": {
      "needs_background": "light"
     },
     "output_type": "display_data"
    }
   ],
   "source": [
    "#Part B\n",
    "\"\"\"\n",
    "Compute a 10 x 10 distance matrix D such that D[i,j] is the Euclidean distance between the mean images of class i and class j. Square the elements of this matrix and write it out to a CSV file named partb_distances.csv. You will submit this file.\n",
    "Note: The order of the class labels is very important here, as this file will be autograded. Refer to this for the index-label mapping, and ensure yours matches.\n",
    "Now you must perform multi-dimensional scaling with the squared distance matrix you have. Refer to the MDS section for details on how to do that.\n",
    "Once you have computed the scaled points in 2-D space, plot the first component along the x-axis and component 2 along the y-axis of a scatter plot. You will submit this plot.\n",
    "\"\"\"\n",
    "D = np.zeros((10,10))\n",
    "for i in range(10):\n",
    "    for j in range(10):\n",
    "        D[i][j] = np.sum(pdist([means[i], means[j]]))\n",
    "D = np.square(D)\n",
    "D_df = pd.DataFrame(D)\n",
    "D_df.to_csv(\"partb_distances.csv\", index=False, header=None)\n",
    "\n",
    "def MDS(D, dim):\n",
    "    A = np.identity(len(D)) - np.ones_like(D) * 1/len(D)\n",
    "    W = -1/2 * np.dot(np.dot(A, D), A.T)\n",
    "    eig_values, eig_mat = np.linalg.eig(W)\n",
    "    Lambda_s = np.diag(eig_values[:dim])\n",
    "    U_s = eig_mat[:,:dim]\n",
    "    Y = np.dot(U_s, np.sqrt(Lambda_s))\n",
    "    return Y\n",
    "\n",
    "Y = MDS(D, 2)\n",
    "plt.figure()\n",
    "plt.xlabel(\"first component\")\n",
    "plt.ylabel(\"second component\")\n",
    "plt.scatter(Y[:,0], Y[:,1])\n",
    "    \n"
   ]
  },
  {
   "cell_type": "code",
   "execution_count": 32,
   "metadata": {},
   "outputs": [
    {
     "name": "stderr",
     "output_type": "stream",
     "text": [
      "/Library/Frameworks/Python.framework/Versions/3.6/lib/python3.6/site-packages/ipykernel_launcher.py:22: RuntimeWarning: invalid value encountered in sqrt\n"
     ]
    },
    {
     "data": {
      "text/plain": [
       "<matplotlib.collections.PathCollection at 0x11a849ef0>"
      ]
     },
     "execution_count": 32,
     "metadata": {},
     "output_type": "execute_result"
    },
    {
     "data": {
      "image/png": "[encoded data removed]",
      "text/plain": [
       "<Figure size 432x288 with 1 Axes>"
      ]
     },
     "metadata": {
      "needs_background": "light"
     },
     "output_type": "display_data"
    }
   ],
   "source": [
    "#part3\n",
    "def E1(A,B):\n",
    "    return (E2(A,B) + E2(B,A))/2\n",
    "\n",
    "def E2(A,B):\n",
    "    if E2_cache[A][B]:\n",
    "        return E2_cache[A][B]\n",
    "    pca_B = PCA(20)\n",
    "    pca_B.fit(data[B])\n",
    "    pca_A.components_ = pca_B.components_\n",
    "    data_rec = np.dot(np.dot(pca_B.components_.T, (data[A]-means[A])),pca_B.components_)\n",
    "    return np.mean(np.sum(np.square(data[label]-data_rec), axis=1),axis=0)\n",
    "\n",
    "E2_cache = [[None for _ in range(10)] for _ in range(10)]\n",
    "D = np.zeros((10,10))\n",
    "for i in range(10):\n",
    "    for j in range(10):\n",
    "        if D[j][i] != 0:\n",
    "            D[i][j] = D[j][i]\n",
    "        else:\n",
    "            D[i][j] = E1(i,j)\n",
    "D_df = pd.DataFrame(D)\n",
    "D_df.to_csv(\"partc_distances.csv\", index=False, header=None)\n",
    "\n",
    "Y = MDS(D, 2)\n",
    "plt.figure()\n",
    "plt.xlabel(\"first component\")\n",
    "plt.ylabel(\"second component\")\n",
    "plt.scatter(Y[:,0], Y[:,1])\n"
   ]
  },
  {
   "cell_type": "code",
   "execution_count": null,
   "metadata": {},
   "outputs": [],
   "source": []
  }
 ],
 "metadata": {
  "kernelspec": {
   "display_name": "Python 3",
   "language": "python",
   "name": "python3"
  },
  "language_info": {
   "codemirror_mode": {
    "name": "ipython",
    "version": 3
   },
   "file_extension": ".py",
   "mimetype": "text/x-python",
   "name": "python",
   "nbconvert_exporter": "python",
   "pygments_lexer": "ipython3",
   "version": "3.6.4"
  }
 },
 "nbformat": 4,
 "nbformat_minor": 2
}
